{
 "cells": [
  {
   "cell_type": "markdown",
   "metadata": {},
   "source": [
    "1)Is Unique: Implement an algorithm to determine if a string has all unique characters. What if you\n",
    "cannot use additional data structures?"
   ]
  },
  {
   "cell_type": "code",
   "execution_count": 13,
   "metadata": {},
   "outputs": [],
   "source": [
    "def isUnique( string):\n",
    "    for i in range(len(string)):\n",
    "        j=i+1\n",
    "        while(j<len(string)):\n",
    "            if(string[i]==string[j]):\n",
    "                return False\n",
    "            j+=1\n",
    "    return True"
   ]
  },
  {
   "cell_type": "code",
   "execution_count": 53,
   "metadata": {},
   "outputs": [
    {
     "data": {
      "text/plain": [
       "False"
      ]
     },
     "execution_count": 53,
     "metadata": {},
     "output_type": "execute_result"
    }
   ],
   "source": [
    "isUnique('aabc')"
   ]
  },
  {
   "cell_type": "code",
   "execution_count": 52,
   "metadata": {},
   "outputs": [],
   "source": [
    "def isUnique(string):\n",
    "    #I assume the string only contains lowercase and uppercase letters but can be extended to any number of characters\n",
    "    if(len(string)>52):\n",
    "        return false\n",
    "    else:\n",
    "        booleanList={}\n",
    "        for i in string:\n",
    "            if(i in booleanList):\n",
    "                return False\n",
    "            else:\n",
    "                booleanList[i]=True\n",
    "        print(booleanList.keys())\n",
    "        return True\n",
    "    "
   ]
  },
  {
   "cell_type": "code",
   "execution_count": 37,
   "metadata": {},
   "outputs": [
    {
     "data": {
      "text/plain": [
       "97"
      ]
     },
     "execution_count": 37,
     "metadata": {},
     "output_type": "execute_result"
    }
   ],
   "source": [
    "ord('a')"
   ]
  },
  {
   "cell_type": "markdown",
   "metadata": {},
   "source": [
    "Check Permutation: Given two strings, write a method to decide if one is a permutation of the\n",
    "other."
   ]
  },
  {
   "cell_type": "code",
   "execution_count": 55,
   "metadata": {},
   "outputs": [],
   "source": [
    "def checkPermutation(string1,string2):\n",
    "    if(len(string1)==len(string2)):\n",
    "        dictionary1={}\n",
    "        for i in string1:\n",
    "            if(i in dictionary1):\n",
    "                dictionary1[i]+=1\n",
    "            else:\n",
    "                dictionary1[i]=1\n",
    "        for i in string2:\n",
    "            if(i in dictionary1):\n",
    "                if(dictionary1[i]>1):\n",
    "                    dictionary1[i]-=1\n",
    "                else:\n",
    "                    del dictionary1[i]\n",
    "            else:\n",
    "                return False\n",
    "        return True\n",
    "    else:\n",
    "        return False\n",
    "    "
   ]
  },
  {
   "cell_type": "code",
   "execution_count": 58,
   "metadata": {},
   "outputs": [
    {
     "data": {
      "text/plain": [
       "False"
      ]
     },
     "execution_count": 58,
     "metadata": {},
     "output_type": "execute_result"
    }
   ],
   "source": [
    "checkPermutation('abd','bca')"
   ]
  },
  {
   "cell_type": "code",
   "execution_count": 59,
   "metadata": {},
   "outputs": [
    {
     "data": {
      "text/plain": [
       "True"
      ]
     },
     "execution_count": 59,
     "metadata": {},
     "output_type": "execute_result"
    }
   ],
   "source": [
    "checkPermutation('abc','bca')"
   ]
  },
  {
   "cell_type": "markdown",
   "metadata": {},
   "source": [
    "URLify: Write a method to replace all spaces in a string with '%20'. You may assume that the string\n",
    "has sufficient space at the end to hold the additional characters, and that you are given the \"true\"\n",
    "length of the string. (Note: If implementing in Java, please use a character array so that you can\n",
    "perform this operation in place.)\n",
    "EXAMPLE\n",
    "\", 13\n",
    "Input: \"Mr John Smith\n",
    "Output: \"Mr%20John%20Smith\""
   ]
  },
  {
   "cell_type": "code",
   "execution_count": 96,
   "metadata": {},
   "outputs": [],
   "source": [
    "def URLfy(string):\n",
    "    locations=[]\n",
    "    for i in string:\n",
    "        if i==' ':\n",
    "            locations.append('1')\n",
    "        else:\n",
    "            locations.append('0')\n",
    "            \n",
    "    print(locations)\n",
    "    newstring=''\n",
    "    for i in range(len(string)):\n",
    "        if(locations[i]=='0'):\n",
    "            newstring+=string[i]\n",
    "        else:\n",
    "            newstring+='%20'\n",
    "    return newstring"
   ]
  },
  {
   "cell_type": "code",
   "execution_count": 97,
   "metadata": {},
   "outputs": [
    {
     "name": "stdout",
     "output_type": "stream",
     "text": [
      "['0', '0', '0', '0', '0', '1', '0', '1', '0', '1']\n"
     ]
    },
    {
     "data": {
      "text/plain": [
       "'avaca%20b%20c%20'"
      ]
     },
     "execution_count": 97,
     "metadata": {},
     "output_type": "execute_result"
    }
   ],
   "source": [
    "URLfy('avaca b c ')"
   ]
  },
  {
   "cell_type": "markdown",
   "metadata": {},
   "source": [
    "Palindrome Permutation: Given a string, write a function to check if it is a permutation of a palin­\n",
    "drome. A palindrome is a word or phrase that is the same forwards and backwards. A permutation\n",
    "is a rearrangement of letters. The palindrome does not need to be limited to just dictionary words.\n",
    "EXAMPLE\n",
    "Input: Tact Coa\n",
    "Output: True (permutations: \"taco cat\", \"atco eta\", etc.)"
   ]
  },
  {
   "cell_type": "code",
   "execution_count": 152,
   "metadata": {},
   "outputs": [],
   "source": [
    "def palindromePermutation(string):\n",
    "    #remove whitespace\n",
    "    newstring=string.split(' ')\n",
    "    newstring=concat(newstring)\n",
    "    letterDictionary={}\n",
    "    for each in newstring:\n",
    "        if each in letterDictionary:\n",
    "            letterDictionary[each]+=1\n",
    "        else:\n",
    "            letterDictionary[each]=1\n",
    "    \n",
    "    uneven=0\n",
    "    true=False\n",
    "    for each in letterDictionary.keys():\n",
    "        if(letterDictionary[each]%2==0 and uneven<=1):\n",
    "            true=True\n",
    "        else:\n",
    "            uneven+=1\n",
    "        \n",
    "        if(uneven>1):\n",
    "            true=False\n",
    "    print(uneven)\n",
    "    return true\n",
    "            \n",
    "    \n",
    "\n",
    "\n",
    "\n",
    "def concat(list1):\n",
    "    newString=''\n",
    "    for each in list1:\n",
    "        newString+=each\n",
    "    return newString\n",
    "    "
   ]
  },
  {
   "cell_type": "code",
   "execution_count": 156,
   "metadata": {},
   "outputs": [
    {
     "name": "stdout",
     "output_type": "stream",
     "text": [
      "1\n"
     ]
    },
    {
     "data": {
      "text/plain": [
       "True"
      ]
     },
     "execution_count": 156,
     "metadata": {},
     "output_type": "execute_result"
    }
   ],
   "source": [
    "palindromePermutation('taco cat')"
   ]
  },
  {
   "cell_type": "code",
   "execution_count": null,
   "metadata": {},
   "outputs": [],
   "source": []
  },
  {
   "cell_type": "code",
   "execution_count": null,
   "metadata": {},
   "outputs": [],
   "source": []
  }
 ],
 "metadata": {
  "kernelspec": {
   "display_name": "Python 3",
   "language": "python",
   "name": "python3"
  },
  "language_info": {
   "codemirror_mode": {
    "name": "ipython",
    "version": 3
   },
   "file_extension": ".py",
   "mimetype": "text/x-python",
   "name": "python",
   "nbconvert_exporter": "python",
   "pygments_lexer": "ipython3",
   "version": "3.7.3"
  }
 },
 "nbformat": 4,
 "nbformat_minor": 2
}
